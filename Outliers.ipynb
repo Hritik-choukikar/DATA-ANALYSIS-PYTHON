import numpy as np
import pandas as pd


# outliers can be detected in 2 ways (there are many ways)
# 1 Visual representation and 2. IQR (Inter Quartile Range)


# at a time, we analyse 1 column for outliers. this is called Univariate analysis
# let us find outliers in Aluminum Cans
import matplotlib.pyplot as plt
plt.boxplot(data['Aluminum Cans'])
plt.show()
# from the below plot, the outlier is at around 21000


# show histogram
plt.hist(data['Aluminum Cans'])
plt.show()


# calculate IQR
# first calculate q3 (third quartile)
q3 = data['Aluminum Cans'].quantile(0.75)
q3


# calculate q1 (first quartile)
q1 = data['Aluminum Cans'].quantile(0.25)
q1


iqr = q3-q1
iqr


# calculate upper and lower limits from iqr
ul = q3 +(1.5 * iqr)
ll = q1 -(1.5 * iqr)
print(ul, ll)
# any value above ul or below ll will become outliers.


# eliminate values not in the range of ul - ll using indexing method
true_index = (ll <data['Aluminum Cans'].values) & \
             (data['Aluminum Cans'].values<ul)
true_index


# delete the rows having outliers and keep remaining.
data1 = data['Aluminum Cans'][true_index]
data1


# show box plot without outliers
plt.boxplot(data1)
plt.show()


# sometimes we may not want to delete the row containing outliers
# it is better to substitue mean or median value in that place.
mid = np.median(data['Aluminum Cans'][true_index])
mid


# replace all outliers with median value, i.e. false_index values to be replaced
false_index = ~ true_index
data['Aluminum Cans'].values[false_index] = mid
data

